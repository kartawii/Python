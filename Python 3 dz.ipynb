{
 "cells": [
  {
   "cell_type": "markdown",
   "id": "0b5e834c",
   "metadata": {},
   "source": [
    "# Домашнее задание.\n",
    "## Урок 3 - Функции и знакомство с библиотекой Pandas\n",
    "#### Выполнил работу: Данил Кузнецов\n",
    "\n",
    "Написать функцию, которая принимает на вход список целых чисел, и возвращает сумму всех значений этого списка (пример: на вход функции — [2,2,4] результат — 8).\n",
    "\n",
    "Создать 2 любых датафрейма с условиями (способ создания не важен):\n",
    "\n",
    "в датафрейме есть поле с типом данных даты (datetime),\n",
    "\n",
    "в датафрейме есть поле с типом данных int64,\n",
    "\n",
    "в датафрейме есть поле с типом object.\n",
    "Пример такого датафрейма есть в уроке."
   ]
  },
  {
   "cell_type": "markdown",
   "id": "eac8558d",
   "metadata": {},
   "source": [
    "## Задание 1"
   ]
  },
  {
   "cell_type": "code",
   "execution_count": 1,
   "id": "4e809dc2",
   "metadata": {},
   "outputs": [
    {
     "data": {
      "text/plain": [
       "8"
      ]
     },
     "execution_count": 1,
     "metadata": {},
     "output_type": "execute_result"
    }
   ],
   "source": [
    "a = [2,2,4]\n",
    "\n",
    "def sum_znach(x):\n",
    "    return sum(x)\n",
    "\n",
    "sum_znach(a)"
   ]
  },
  {
   "cell_type": "markdown",
   "id": "4c0b5e91",
   "metadata": {},
   "source": [
    "## Задание 2\n",
    "### первая таблица"
   ]
  },
  {
   "cell_type": "code",
   "execution_count": 2,
   "id": "2d0e9db5",
   "metadata": {},
   "outputs": [],
   "source": [
    "import pandas as pd"
   ]
  },
  {
   "cell_type": "code",
   "execution_count": 3,
   "id": "521df491",
   "metadata": {},
   "outputs": [
    {
     "data": {
      "text/html": [
       "<div>\n",
       "<style scoped>\n",
       "    .dataframe tbody tr th:only-of-type {\n",
       "        vertical-align: middle;\n",
       "    }\n",
       "\n",
       "    .dataframe tbody tr th {\n",
       "        vertical-align: top;\n",
       "    }\n",
       "\n",
       "    .dataframe thead th {\n",
       "        text-align: right;\n",
       "    }\n",
       "</style>\n",
       "<table border=\"1\" class=\"dataframe\">\n",
       "  <thead>\n",
       "    <tr style=\"text-align: right;\">\n",
       "      <th></th>\n",
       "      <th>name</th>\n",
       "      <th>year</th>\n",
       "      <th>level</th>\n",
       "    </tr>\n",
       "  </thead>\n",
       "  <tbody>\n",
       "    <tr>\n",
       "      <th>0</th>\n",
       "      <td>Bard</td>\n",
       "      <td>2016</td>\n",
       "      <td>35</td>\n",
       "    </tr>\n",
       "    <tr>\n",
       "      <th>1</th>\n",
       "      <td>Var</td>\n",
       "      <td>2017</td>\n",
       "      <td>47</td>\n",
       "    </tr>\n",
       "    <tr>\n",
       "      <th>2</th>\n",
       "      <td>Mag</td>\n",
       "      <td>2017</td>\n",
       "      <td>85</td>\n",
       "    </tr>\n",
       "  </tbody>\n",
       "</table>\n",
       "</div>"
      ],
      "text/plain": [
       "   name  year  level\n",
       "0  Bard  2016     35\n",
       "1   Var  2017     47\n",
       "2   Mag  2017     85"
      ]
     },
     "execution_count": 3,
     "metadata": {},
     "output_type": "execute_result"
    }
   ],
   "source": [
    "data = {'name': ['Bard', 'Var', 'Mag'],\n",
    "        'year': [2016, 2017, 2017],\n",
    "        'level': [35, 47, 85]}\n",
    "\n",
    "game_table = pd.DataFrame(data=data)\n",
    "game_table"
   ]
  },
  {
   "cell_type": "code",
   "execution_count": 4,
   "id": "56da13be",
   "metadata": {},
   "outputs": [
    {
     "name": "stdout",
     "output_type": "stream",
     "text": [
      "<class 'pandas.core.frame.DataFrame'>\n",
      "RangeIndex: 3 entries, 0 to 2\n",
      "Data columns (total 3 columns):\n",
      " #   Column  Non-Null Count  Dtype \n",
      "---  ------  --------------  ----- \n",
      " 0   name    3 non-null      object\n",
      " 1   year    3 non-null      int64 \n",
      " 2   level   3 non-null      int64 \n",
      "dtypes: int64(2), object(1)\n",
      "memory usage: 200.0+ bytes\n"
     ]
    }
   ],
   "source": [
    "game_table.info()\n"
   ]
  },
  {
   "cell_type": "code",
   "execution_count": 5,
   "id": "40bb88b5",
   "metadata": {},
   "outputs": [
    {
     "data": {
      "text/html": [
       "<div>\n",
       "<style scoped>\n",
       "    .dataframe tbody tr th:only-of-type {\n",
       "        vertical-align: middle;\n",
       "    }\n",
       "\n",
       "    .dataframe tbody tr th {\n",
       "        vertical-align: top;\n",
       "    }\n",
       "\n",
       "    .dataframe thead th {\n",
       "        text-align: right;\n",
       "    }\n",
       "</style>\n",
       "<table border=\"1\" class=\"dataframe\">\n",
       "  <thead>\n",
       "    <tr style=\"text-align: right;\">\n",
       "      <th></th>\n",
       "      <th>name</th>\n",
       "      <th>year</th>\n",
       "      <th>level</th>\n",
       "    </tr>\n",
       "  </thead>\n",
       "  <tbody>\n",
       "    <tr>\n",
       "      <th>0</th>\n",
       "      <td>Bard</td>\n",
       "      <td>2016-01-01</td>\n",
       "      <td>35</td>\n",
       "    </tr>\n",
       "    <tr>\n",
       "      <th>1</th>\n",
       "      <td>Var</td>\n",
       "      <td>2017-01-01</td>\n",
       "      <td>47</td>\n",
       "    </tr>\n",
       "    <tr>\n",
       "      <th>2</th>\n",
       "      <td>Mag</td>\n",
       "      <td>2017-01-01</td>\n",
       "      <td>85</td>\n",
       "    </tr>\n",
       "  </tbody>\n",
       "</table>\n",
       "</div>"
      ],
      "text/plain": [
       "   name       year  level\n",
       "0  Bard 2016-01-01     35\n",
       "1   Var 2017-01-01     47\n",
       "2   Mag 2017-01-01     85"
      ]
     },
     "execution_count": 5,
     "metadata": {},
     "output_type": "execute_result"
    }
   ],
   "source": [
    "game_table['year'] = pd.to_datetime(game_table['year'], format='%Y')\n",
    "game_table.head()"
   ]
  },
  {
   "cell_type": "code",
   "execution_count": 6,
   "id": "ec8079f8",
   "metadata": {},
   "outputs": [
    {
     "name": "stdout",
     "output_type": "stream",
     "text": [
      "<class 'pandas.core.frame.DataFrame'>\n",
      "RangeIndex: 3 entries, 0 to 2\n",
      "Data columns (total 3 columns):\n",
      " #   Column  Non-Null Count  Dtype         \n",
      "---  ------  --------------  -----         \n",
      " 0   name    3 non-null      object        \n",
      " 1   year    3 non-null      datetime64[ns]\n",
      " 2   level   3 non-null      int64         \n",
      "dtypes: datetime64[ns](1), int64(1), object(1)\n",
      "memory usage: 200.0+ bytes\n"
     ]
    }
   ],
   "source": [
    "game_table.info()\n"
   ]
  },
  {
   "cell_type": "markdown",
   "id": "85c9c074",
   "metadata": {},
   "source": [
    "### Вторая таблица"
   ]
  },
  {
   "cell_type": "code",
   "execution_count": 12,
   "id": "1f909baf",
   "metadata": {},
   "outputs": [
    {
     "data": {
      "text/html": [
       "<div>\n",
       "<style scoped>\n",
       "    .dataframe tbody tr th:only-of-type {\n",
       "        vertical-align: middle;\n",
       "    }\n",
       "\n",
       "    .dataframe tbody tr th {\n",
       "        vertical-align: top;\n",
       "    }\n",
       "\n",
       "    .dataframe thead th {\n",
       "        text-align: right;\n",
       "    }\n",
       "</style>\n",
       "<table border=\"1\" class=\"dataframe\">\n",
       "  <thead>\n",
       "    <tr style=\"text-align: right;\">\n",
       "      <th></th>\n",
       "      <th>name</th>\n",
       "      <th>level</th>\n",
       "      <th>year</th>\n",
       "    </tr>\n",
       "  </thead>\n",
       "  <tbody>\n",
       "    <tr>\n",
       "      <th>0</th>\n",
       "      <td>Assasin</td>\n",
       "      <td>34</td>\n",
       "      <td>2016-01-01</td>\n",
       "    </tr>\n",
       "    <tr>\n",
       "      <th>1</th>\n",
       "      <td>Devil</td>\n",
       "      <td>45</td>\n",
       "      <td>2017-01-01</td>\n",
       "    </tr>\n",
       "    <tr>\n",
       "      <th>2</th>\n",
       "      <td>Dvorf</td>\n",
       "      <td>56</td>\n",
       "      <td>2017-01-01</td>\n",
       "    </tr>\n",
       "  </tbody>\n",
       "</table>\n",
       "</div>"
      ],
      "text/plain": [
       "      name  level       year\n",
       "0  Assasin     34 2016-01-01\n",
       "1    Devil     45 2017-01-01\n",
       "2    Dvorf     56 2017-01-01"
      ]
     },
     "execution_count": 12,
     "metadata": {},
     "output_type": "execute_result"
    }
   ],
   "source": [
    "data = [\n",
    "    ['Assasin', 34, 2021],\n",
    "    ['Devil', 45, 2022],\n",
    "    ['Dvorf', 56, 1999]\n",
    "]\n",
    "\n",
    "columns = ['name', 'level', 'year']\n",
    "\n",
    "game_table2 = pd.DataFrame(data=data, columns=columns)\n",
    "\n",
    "game_table2['year'] = pd.to_datetime(game_table['year'], format='%Y')\n",
    "\n",
    "game_table2"
   ]
  },
  {
   "cell_type": "code",
   "execution_count": 13,
   "id": "01523d90",
   "metadata": {},
   "outputs": [
    {
     "name": "stdout",
     "output_type": "stream",
     "text": [
      "<class 'pandas.core.frame.DataFrame'>\n",
      "RangeIndex: 3 entries, 0 to 2\n",
      "Data columns (total 3 columns):\n",
      " #   Column  Non-Null Count  Dtype         \n",
      "---  ------  --------------  -----         \n",
      " 0   name    3 non-null      object        \n",
      " 1   level   3 non-null      int64         \n",
      " 2   year    3 non-null      datetime64[ns]\n",
      "dtypes: datetime64[ns](1), int64(1), object(1)\n",
      "memory usage: 200.0+ bytes\n"
     ]
    }
   ],
   "source": [
    "game_table2.info()"
   ]
  },
  {
   "cell_type": "code",
   "execution_count": null,
   "id": "187f30ff",
   "metadata": {},
   "outputs": [],
   "source": []
  }
 ],
 "metadata": {
  "kernelspec": {
   "display_name": "Python 3 (ipykernel)",
   "language": "python",
   "name": "python3"
  },
  "language_info": {
   "codemirror_mode": {
    "name": "ipython",
    "version": 3
   },
   "file_extension": ".py",
   "mimetype": "text/x-python",
   "name": "python",
   "nbconvert_exporter": "python",
   "pygments_lexer": "ipython3",
   "version": "3.9.7"
  }
 },
 "nbformat": 4,
 "nbformat_minor": 5
}
