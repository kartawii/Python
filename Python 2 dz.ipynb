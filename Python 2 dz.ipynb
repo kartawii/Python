{
 "cells": [
  {
   "cell_type": "markdown",
   "id": "0b5e834c",
   "metadata": {},
   "source": [
    "# Домашнее задание.\n",
    "## Урок 2 - Базовый синтаксис Python\n",
    "#### Выполнил работу: Данил Кузнецов\n",
    "1.Написать программу, которая будет считать n-ый элемент числа Фибоначчи и выводить его на экран.\n",
    "а. первые два числа последовательности желательно начинать с [1,1].\n",
    "\n",
    "2.Написать программу, которая принимает на вход строку, и считает, сколько раз каждый символ фигурирует в этой строке. Ответ программа сохраняет в словаре, где ключ — это символ из строки, а его количество повторений в строке — это значение.\n",
    "а. результат выглядит примерно так. Первое — это строка, подаваемая на вход, а на выходе словарь, где указано, сколько раз каждый символ из это строки встречается в ней."
   ]
  },
  {
   "cell_type": "markdown",
   "id": "eac8558d",
   "metadata": {},
   "source": [
    "## Задание 1"
   ]
  },
  {
   "cell_type": "code",
   "execution_count": null,
   "id": "2901790a",
   "metadata": {},
   "outputs": [],
   "source": [
    "a = int(input('Сколько надо чисел Фибоначчи? '))\n",
    "b = [1,1]\n",
    "for i in range (a):\n",
    "    print(b[0],end=' ')\n",
    "    b.append(sum(b))\n",
    "    del b[0]"
   ]
  },
  {
   "cell_type": "markdown",
   "id": "7487f73d",
   "metadata": {},
   "source": [
    "## Задание 2"
   ]
  },
  {
   "cell_type": "code",
   "execution_count": null,
   "id": "3fe90bd8",
   "metadata": {},
   "outputs": [],
   "source": [
    "a = input('Введите строку: ')\n",
    "b = list(set(a))\n",
    "dct = {}\n",
    "for i in range(len(b)):\n",
    "    c = a.count(b[i])\n",
    "    dct.setdefault(b[i],c)\n",
    "print(dct)"
   ]
  },
  {
   "cell_type": "code",
   "execution_count": null,
   "id": "b2e6444d",
   "metadata": {},
   "outputs": [],
   "source": []
  }
 ],
 "metadata": {
  "kernelspec": {
   "display_name": "Python 3 (ipykernel)",
   "language": "python",
   "name": "python3"
  },
  "language_info": {
   "codemirror_mode": {
    "name": "ipython",
    "version": 3
   },
   "file_extension": ".py",
   "mimetype": "text/x-python",
   "name": "python",
   "nbconvert_exporter": "python",
   "pygments_lexer": "ipython3",
   "version": "3.9.7"
  }
 },
 "nbformat": 4,
 "nbformat_minor": 5
}
