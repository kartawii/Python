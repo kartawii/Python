{
 "cells": [
  {
   "cell_type": "markdown",
   "id": "0b5e834c",
   "metadata": {},
   "source": [
    "# Домашнее задание.\n",
    "## Урок 1 - Введение в Python\n",
    "#### Выполнил работу: Данил Кузнецов"
   ]
  },
  {
   "cell_type": "markdown",
   "id": "eac8558d",
   "metadata": {},
   "source": [
    "## Задание 1\n",
    "Написать программу, которая попросит пользователя ввести ряд личных данных, а после выведет их на экран.\n",
    "\n",
    "Данные, которые программа соберёт у пользователя (через функцию input):\n",
    "- ФИО;\n",
    "- возраст;\n",
    "- пол.\n",
    "\n",
    "Сохранить эти данные нужно в отдельные переменные (у нас должно получиться 3 переменных), а после вывести их на экран (через функцию print() )."
   ]
  },
  {
   "cell_type": "code",
   "execution_count": 1,
   "id": "2901790a",
   "metadata": {},
   "outputs": [
    {
     "name": "stdout",
     "output_type": "stream",
     "text": [
      "Введите свою фамилию:Кузнецов\n",
      "Введите свое имя:Данил\n",
      "Введите свое отчество:Сергеевич\n",
      "Введите свой возраст:23\n",
      "Введите свой пол:м\n",
      "Кузнецов Данил Сергеевич\n",
      "Возраст: 23\n",
      "Пол: м\n"
     ]
    }
   ],
   "source": [
    "name = (input('Введите свою фамилию:'), input('Введите свое имя:'), input('Введите свое отчество:'))\n",
    "age = input('Введите свой возраст:')\n",
    "sex = input('Введите свой пол:')\n",
    "print(*name)\n",
    "print('Возраст:',age)\n",
    "print('Пол:',sex)\n"
   ]
  }
 ],
 "metadata": {
  "kernelspec": {
   "display_name": "Python 3 (ipykernel)",
   "language": "python",
   "name": "python3"
  },
  "language_info": {
   "codemirror_mode": {
    "name": "ipython",
    "version": 3
   },
   "file_extension": ".py",
   "mimetype": "text/x-python",
   "name": "python",
   "nbconvert_exporter": "python",
   "pygments_lexer": "ipython3",
   "version": "3.9.7"
  }
 },
 "nbformat": 4,
 "nbformat_minor": 5
}
